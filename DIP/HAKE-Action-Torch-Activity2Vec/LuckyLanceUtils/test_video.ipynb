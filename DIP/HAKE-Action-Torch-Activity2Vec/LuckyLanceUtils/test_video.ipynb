{
 "cells": [
  {
   "cell_type": "code",
   "execution_count": 43,
   "metadata": {},
   "outputs": [
    {
     "name": "stdout",
     "output_type": "stream",
     "text": [
      "146.0 25.0\n",
      "Moviepy - Building video test_out.mp4.\n",
      "Moviepy - Writing video test_out.mp4\n",
      "\n"
     ]
    },
    {
     "name": "stderr",
     "output_type": "stream",
     "text": [
      "                                                               "
     ]
    },
    {
     "name": "stdout",
     "output_type": "stream",
     "text": [
      "Moviepy - Done !\n",
      "Moviepy - video ready test_out.mp4\n"
     ]
    },
    {
     "name": "stderr",
     "output_type": "stream",
     "text": []
    }
   ],
   "source": [
    "import pickle\n",
    "import os\n",
    "import numpy as np\n",
    "import cv2\n",
    "import matplotlib.pyplot as plt\n",
    "import numpy as np\n",
    "from sklearn.cluster import KMeans\n",
    "#from sklearn import datasets\n",
    "from sklearn.datasets import load_iris\n",
    "from moviepy.editor import *\n",
    "\n",
    "success = True\n",
    "x_axis, y_axis = 0, 0\n",
    "count = 0\n",
    "# mode: 0 or 1, for different colors\n",
    "color_mode = 0\n",
    "img_list = []\n",
    "\n",
    "cap = cv2.VideoCapture(\"../DemoVideo/test.mp4\")\n",
    "total_frame = cap.get(7)\n",
    "speed = cap.get(5)\n",
    "print(total_frame, speed)\n",
    "\n",
    "while success and count < total_frame:\n",
    "    success, frame = cap.read()\n",
    "    pickle_path = \"../out/res/\" + str(count) + \".pkl\"\n",
    "    if os.path.exists(pickle_path) == False:\n",
    "        success = False\n",
    "    outeample = pickle.load(open(pickle_path, \"rb\"))\n",
    "    count = count + 1\n",
    "    # GaussianBlur to Blur the image\n",
    "    frame = cv2.GaussianBlur(frame, (5, 5), 1)\n",
    "    outeample_numpy = np.array(outeample['human_bboxes'])\n",
    "    center_slide = []\n",
    "    for per_human_box in outeample_numpy:\n",
    "        x_min, y_min, x_max, y_max = per_human_box\n",
    "        center_x = (int)(x_min + x_max) // 2\n",
    "        center_y = (int)(y_min + y_max) // 2\n",
    "        mid_point = [\n",
    "            [center_y - 1, center_x - 1], [center_y - 1,\n",
    "                                           center_x], [center_y - 1, center_x + 1],\n",
    "            [center_y, center_x - 1], [center_y,\n",
    "                                       center_x], [center_y, center_x + 1],\n",
    "            [center_y + 1, center_x - 1], [center_y + 1,\n",
    "                                           center_x], [center_y + 1, center_x + 1]\n",
    "        ]\n",
    "        center_slide.append(mid_point)\n",
    "    color_pair = []\n",
    "    for mid_point in center_slide:\n",
    "        color_list = []\n",
    "        for coordinate in mid_point:\n",
    "            color = frame[coordinate[0], coordinate[1]]\n",
    "            color_list.append(color)\n",
    "        color_list = np.average(color_list, axis=0)\n",
    "        color_pair.append(color_list)\n",
    "    for idx in range(len(color_pair)):\n",
    "        color_pair[idx] = color_pair[idx].tolist()\n",
    "    color_pair =  np.array(color_pair)\n",
    "    estimator = KMeans(n_clusters=2)\n",
    "    estimator.fit(color_pair)\n",
    "    label_pred = estimator.labels_\n",
    "    x0 = color_pair[label_pred == 0]\n",
    "    x1 = color_pair[label_pred == 1]\n",
    "    x0_avg = np.average(x0)\n",
    "    x1_avg = np.average(x1)\n",
    "    if x0_avg < x1_avg:\n",
    "        result = [x0, x1]\n",
    "    else:\n",
    "        result = [x1, x0]\n",
    "    cluster = []\n",
    "    for i in range(len(result)):\n",
    "        cluster_per = []\n",
    "        for result_per in result[i]:\n",
    "            for idx in range(len(color_pair)):\n",
    "                if np.sum(np.abs(result_per - color_pair[idx])) < 0.5:\n",
    "                    cluster_per.append(idx)\n",
    "        cluster.append(cluster_per)\n",
    "    img = np.zeros((len(frame), len(frame[0])))\n",
    "    for idx in cluster[color_mode]:\n",
    "        fontsize = 2\n",
    "        x_space = center_slide[idx][4][1]-19\n",
    "        y_space = center_slide[idx][4][0]+19\n",
    "        if idx >= 10:\n",
    "            fontsize = 1\n",
    "            y_space = y_space - 3\n",
    "        cv2.circle(\n",
    "            img, (center_slide[idx][4][1], center_slide[idx][4][0]), 30, (255, 255, 255), 2)\n",
    "        cv2.putText(img, str(idx), (x_space, y_space),\n",
    "                    cv2.FONT_HERSHEY_SIMPLEX, fontsize, (255, 255, 255), 2)\n",
    "    img = np.dstack(3 * [img]).astype('uint8')\n",
    "    img_list.append(img)\n",
    "\n",
    "new_clip = ImageSequenceClip(img_list, fps=(int)(speed))\n",
    "vis_path = \"test_out.mp4\"\n",
    "new_clip.write_videofile(vis_path)\n"
   ]
  },
  {
   "cell_type": "code",
   "execution_count": 14,
   "metadata": {},
   "outputs": [
    {
     "name": "stdout",
     "output_type": "stream",
     "text": [
      "(10, 10, 3)\n"
     ]
    }
   ],
   "source": [
    "import numpy as np\n",
    "set_data = np.ones(100)\n",
    "for i in range(100):\n",
    "    set_data[i] = i\n",
    "set_data = np.dstack(3 * [set_data]).astype('uint8').reshape(10, -1, 3)\n",
    "print(set_data.shape)"
   ]
  },
  {
   "cell_type": "code",
   "execution_count": 65,
   "metadata": {},
   "outputs": [
    {
     "name": "stdout",
     "output_type": "stream",
     "text": [
      "[[13 13 13]\n",
      " [14 14 14]\n",
      " [15 15 15]\n",
      " [23 23 23]\n",
      " [24 24 24]\n",
      " [25 25 25]\n",
      " [33 33 33]\n",
      " [34 34 34]\n",
      " [35 35 35]\n",
      " [43 43 43]\n",
      " [44 44 44]\n",
      " [45 45 45]]\n",
      "[ 0  1  2  3  4  5  6  7  8  9 10 11]\n"
     ]
    }
   ],
   "source": [
    "# print(set_data[1:5, 3:6]) # [a, b)\n",
    "clip = set_data[1:5, 3:6] # [a, b)\n",
    "clip = clip.reshape(1, -1, 3)[0]\n",
    "print(clip)\n",
    "seq = clip[:,1].argsort() #按照第3列对行排序\n",
    "print(seq)"
   ]
  },
  {
   "cell_type": "code",
   "execution_count": 26,
   "metadata": {},
   "outputs": [],
   "source": [
    "import pickle\n",
    "data = pickle.load(open(\"/Disk4/xudong/HAKE-Action-Torch-Activity2Vec/out/res/89.pkl\", \"rb\"))"
   ]
  },
  {
   "cell_type": "code",
   "execution_count": 27,
   "metadata": {},
   "outputs": [
    {
     "name": "stdout",
     "output_type": "stream",
     "text": [
      "dict_keys(['human_bboxes', 'part_bboxes', 'keypoints', 'human_scores', 'skeletons', 'f_pasta', 'p_pasta', 'p_verb'])\n"
     ]
    }
   ],
   "source": [
    "print(data.keys())"
   ]
  },
  {
   "cell_type": "code",
   "execution_count": 30,
   "metadata": {},
   "outputs": [
    {
     "name": "stdout",
     "output_type": "stream",
     "text": [
      "tensor([  0.0000, 635.5928,  39.9791, 758.7194])\n"
     ]
    }
   ],
   "source": [
    "print(data['human_bboxes'][13])"
   ]
  },
  {
   "cell_type": "code",
   "execution_count": null,
   "metadata": {},
   "outputs": [],
   "source": []
  }
 ],
 "metadata": {
  "interpreter": {
   "hash": "56b8f11a7165b6790b25e21d45460f384a5522a1858e3ac13a5f91c00acd385f"
  },
  "kernelspec": {
   "display_name": "Python 3.7.11 64-bit ('activity2vec': conda)",
   "language": "python",
   "name": "python3"
  },
  "language_info": {
   "codemirror_mode": {
    "name": "ipython",
    "version": 3
   },
   "file_extension": ".py",
   "mimetype": "text/x-python",
   "name": "python",
   "nbconvert_exporter": "python",
   "pygments_lexer": "ipython3",
   "version": "3.7.11"
  },
  "orig_nbformat": 4
 },
 "nbformat": 4,
 "nbformat_minor": 2
}
