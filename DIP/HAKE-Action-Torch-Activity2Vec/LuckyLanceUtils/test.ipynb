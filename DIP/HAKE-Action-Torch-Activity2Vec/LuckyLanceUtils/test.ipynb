{
 "cells": [
  {
   "cell_type": "code",
   "execution_count": 1,
   "metadata": {},
   "outputs": [],
   "source": [
    "import pickle\n",
    "import numpy as np\n",
    "import cv2"
   ]
  },
  {
   "cell_type": "code",
   "execution_count": 4,
   "metadata": {},
   "outputs": [
    {
     "name": "stdout",
     "output_type": "stream",
     "text": [
      "dict_keys(['human_bboxes', 'part_bboxes', 'keypoints', 'human_scores', 'skeletons', 'f_pasta', 'p_pasta', 'p_verb'])\n"
     ]
    }
   ],
   "source": [
    "outeample = pickle.load(open(\"/Disk4/xudong/HAKE-Action-Torch-Activity2Vec/out/res/89.pkl\", \"rb\"))\n",
    "print(outeample.keys())"
   ]
  },
  {
   "cell_type": "code",
   "execution_count": 5,
   "metadata": {},
   "outputs": [
    {
     "name": "stdout",
     "output_type": "stream",
     "text": [
      "tensor([[2.6741],\n",
      "        [2.4466],\n",
      "        [2.4528],\n",
      "        [1.6826],\n",
      "        [2.6800],\n",
      "        [2.6440],\n",
      "        [2.4294],\n",
      "        [2.1880],\n",
      "        [1.9360],\n",
      "        [2.5297],\n",
      "        [2.4050],\n",
      "        [1.8320],\n",
      "        [2.0687],\n",
      "        [1.5873],\n",
      "        [1.9584],\n",
      "        [1.6710],\n",
      "        [1.0040],\n",
      "        [1.4340],\n",
      "        [0.7103],\n",
      "        [0.7373]])\n"
     ]
    }
   ],
   "source": [
    "# cap = cv2.VideoCapture(\"../DemoVideo/test.mp4\")\n",
    "# SCORE_THRES = 1.5\n",
    "print(outeample['human_scores'])"
   ]
  },
  {
   "cell_type": "code",
   "execution_count": 69,
   "metadata": {},
   "outputs": [
    {
     "name": "stdout",
     "output_type": "stream",
     "text": [
      "146.0 25.0\n"
     ]
    }
   ],
   "source": [
    "total_frame = cap.get(7)\n",
    "speed = cap.get(5)\n",
    "print(total_frame, speed)"
   ]
  },
  {
   "cell_type": "code",
   "execution_count": 70,
   "metadata": {},
   "outputs": [
    {
     "name": "stdout",
     "output_type": "stream",
     "text": [
      "(720, 1280, 3)\n"
     ]
    }
   ],
   "source": [
    "_, frame = cap.read()\n",
    "print(frame.shape)"
   ]
  },
  {
   "cell_type": "code",
   "execution_count": 71,
   "metadata": {},
   "outputs": [
    {
     "name": "stdout",
     "output_type": "stream",
     "text": [
      "1280\n",
      "720\n"
     ]
    }
   ],
   "source": [
    "# print(frame)\n",
    "print(len(frame[0]))\n",
    "print(len(frame))"
   ]
  },
  {
   "cell_type": "code",
   "execution_count": 72,
   "metadata": {},
   "outputs": [],
   "source": [
    "frame = cv2.GaussianBlur(frame, (5, 5), 1)"
   ]
  },
  {
   "cell_type": "code",
   "execution_count": 73,
   "metadata": {},
   "outputs": [],
   "source": [
    "# print(outeample['human_bboxes'])\n",
    "outeample_numpy = np.array(outeample['human_bboxes'])\n",
    "# print(outeample_numpy)\n",
    "center_slide = []\n",
    "for per_human_box in outeample_numpy:\n",
    "    x_min, y_min, x_max, y_max = per_human_box\n",
    "    center_x = (int)(x_min + x_max) // 2\n",
    "    center_y = (int)(y_min + y_max) // 2\n",
    "    mid_point = [\n",
    "        [center_y - 1, center_x - 1], [center_y - 1, center_x], [center_y - 1, center_x + 1],\n",
    "        [center_y    , center_x - 1], [center_y    , center_x], [center_y    , center_x + 1],\n",
    "        [center_y + 1, center_x - 1], [center_y + 1, center_x], [center_y + 1, center_x + 1]\n",
    "    ]\n",
    "    # print(mid_point)\n",
    "    center_slide.append(mid_point)"
   ]
  },
  {
   "cell_type": "code",
   "execution_count": 74,
   "metadata": {},
   "outputs": [
    {
     "name": "stdout",
     "output_type": "stream",
     "text": [
      "18\n"
     ]
    }
   ],
   "source": [
    "print(len(center_slide))"
   ]
  },
  {
   "cell_type": "code",
   "execution_count": 75,
   "metadata": {},
   "outputs": [],
   "source": [
    "# print(center_slide)"
   ]
  },
  {
   "cell_type": "code",
   "execution_count": 76,
   "metadata": {},
   "outputs": [
    {
     "data": {
      "text/plain": [
       "True"
      ]
     },
     "execution_count": 76,
     "metadata": {},
     "output_type": "execute_result"
    }
   ],
   "source": [
    "cv2.imwrite(\"out.jpg\", frame)"
   ]
  },
  {
   "cell_type": "code",
   "execution_count": 77,
   "metadata": {},
   "outputs": [
    {
     "name": "stdout",
     "output_type": "stream",
     "text": [
      "720\n",
      "1280\n"
     ]
    }
   ],
   "source": [
    "print(len(frame))\n",
    "print(len(frame[0]))"
   ]
  },
  {
   "cell_type": "code",
   "execution_count": 78,
   "metadata": {},
   "outputs": [],
   "source": [
    "color_pair = []\n",
    "for mid_point in center_slide:\n",
    "    color_list = []\n",
    "    for coordinate in mid_point:\n",
    "        color = frame[coordinate[0], coordinate[1]]\n",
    "        color_list.append(color)\n",
    "    # print(color_list)\n",
    "    color_list = np.average(color_list, axis=0)\n",
    "    # print(color_list)\n",
    "    color_pair.append(color_list)"
   ]
  },
  {
   "cell_type": "code",
   "execution_count": 79,
   "metadata": {},
   "outputs": [
    {
     "name": "stdout",
     "output_type": "stream",
     "text": [
      "18\n",
      "[array([57.        , 51.22222222, 52.77777778]), array([ 66.33333333, 165.77777778, 185.44444444]), array([115.77777778, 214.77777778, 229.44444444]), array([12.11111111, 44.77777778, 46.22222222]), array([51.44444444, 37.55555556, 37.77777778]), array([ 85.77777778, 121.88888889, 149.77777778]), array([102.22222222, 223.22222222, 228.55555556]), array([ 50.        , 165.88888889, 196.77777778]), array([28.77777778, 39.88888889, 40.44444444]), array([14.66666667, 40.55555556, 46.55555556]), array([21.77777778, 59.88888889, 56.44444444]), array([26.11111111, 46.44444444, 44.33333333]), array([ 97.22222222, 137.55555556, 166.66666667]), array([42.        , 45.55555556, 49.22222222]), array([ 87.33333333, 177.66666667, 208.88888889]), array([18.11111111, 54.33333333, 70.33333333]), array([ 62.88888889, 155.55555556, 181.22222222]), array([42.        , 82.77777778, 76.44444444])]\n"
     ]
    }
   ],
   "source": [
    "print(len(color_pair))\n",
    "print(color_pair)"
   ]
  },
  {
   "cell_type": "code",
   "execution_count": 80,
   "metadata": {},
   "outputs": [
    {
     "name": "stdout",
     "output_type": "stream",
     "text": [
      "[[ 57.          51.22222222  52.77777778]\n",
      " [ 66.33333333 165.77777778 185.44444444]\n",
      " [115.77777778 214.77777778 229.44444444]\n",
      " [ 12.11111111  44.77777778  46.22222222]\n",
      " [ 51.44444444  37.55555556  37.77777778]\n",
      " [ 85.77777778 121.88888889 149.77777778]\n",
      " [102.22222222 223.22222222 228.55555556]\n",
      " [ 50.         165.88888889 196.77777778]\n",
      " [ 28.77777778  39.88888889  40.44444444]\n",
      " [ 14.66666667  40.55555556  46.55555556]\n",
      " [ 21.77777778  59.88888889  56.44444444]\n",
      " [ 26.11111111  46.44444444  44.33333333]\n",
      " [ 97.22222222 137.55555556 166.66666667]\n",
      " [ 42.          45.55555556  49.22222222]\n",
      " [ 87.33333333 177.66666667 208.88888889]\n",
      " [ 18.11111111  54.33333333  70.33333333]\n",
      " [ 62.88888889 155.55555556 181.22222222]\n",
      " [ 42.          82.77777778  76.44444444]]\n"
     ]
    }
   ],
   "source": [
    "for idx in range(len(color_pair)):\n",
    "    color_pair[idx] = color_pair[idx].tolist()\n",
    "color_pair = np.array(color_pair)\n",
    "print(color_pair)"
   ]
  },
  {
   "cell_type": "code",
   "execution_count": 81,
   "metadata": {},
   "outputs": [],
   "source": [
    "import matplotlib.pyplot as plt\n",
    "import numpy as np\n",
    "from sklearn.cluster import KMeans\n",
    "#from sklearn import datasets\n",
    "from sklearn.datasets import load_iris"
   ]
  },
  {
   "cell_type": "code",
   "execution_count": 82,
   "metadata": {},
   "outputs": [],
   "source": [
    "# color_pair\n",
    "# plt.scatter(color_pair[:, 0], color_pair[:, 1], c = \"red\", marker='o', label='see')\n",
    "# plt.xlabel('petal length')\n",
    "# plt.ylabel('petal width')\n",
    "# plt.legend(loc=2)\n",
    "# plt.show()"
   ]
  },
  {
   "cell_type": "code",
   "execution_count": 83,
   "metadata": {},
   "outputs": [],
   "source": [
    "estimator = KMeans(n_clusters=2)\n",
    "estimator.fit(color_pair)\n",
    "label_pred = estimator.labels_ "
   ]
  },
  {
   "cell_type": "code",
   "execution_count": 85,
   "metadata": {},
   "outputs": [
    {
     "name": "stdout",
     "output_type": "stream",
     "text": [
      "149.0277777777778\n",
      "44.585185185185175\n"
     ]
    }
   ],
   "source": [
    "x0 = color_pair[label_pred == 0]\n",
    "x1 = color_pair[label_pred == 1]\n",
    "print(np.average(x0))\n",
    "print(np.average(x1))\n",
    "# print(x0)\n",
    "# print(x1)"
   ]
  },
  {
   "cell_type": "code",
   "execution_count": 4,
   "metadata": {},
   "outputs": [
    {
     "name": "stdout",
     "output_type": "stream",
     "text": [
      "0.25\n"
     ]
    }
   ],
   "source": [
    "from box_utils import compute_IOU\n",
    "rec1 = [0, 0, 1, 1]\n",
    "rec2 = [0, 0, 2, 2]\n",
    "print(compute_IOU(rec2, rec1))"
   ]
  },
  {
   "cell_type": "code",
   "execution_count": 6,
   "metadata": {},
   "outputs": [
    {
     "name": "stdout",
     "output_type": "stream",
     "text": [
      "[1. 1. 1.]\n"
     ]
    }
   ],
   "source": [
    "import numpy as np\n",
    "mask = np.ones(3)\n",
    "print(mask)"
   ]
  },
  {
   "cell_type": "code",
   "execution_count": 9,
   "metadata": {},
   "outputs": [
    {
     "name": "stdout",
     "output_type": "stream",
     "text": [
      "0 1\n",
      "0 2\n",
      "0 3\n",
      "0 4\n",
      "1 2\n",
      "1 3\n",
      "1 4\n",
      "2 3\n",
      "2 4\n",
      "3 4\n"
     ]
    }
   ],
   "source": [
    "for i in range(5):\n",
    "    for j in range(i + 1, 5):\n",
    "        print(i, j)"
   ]
  }
 ],
 "metadata": {
  "interpreter": {
   "hash": "56b8f11a7165b6790b25e21d45460f384a5522a1858e3ac13a5f91c00acd385f"
  },
  "kernelspec": {
   "display_name": "Python 3.7.11 64-bit ('activity2vec': conda)",
   "language": "python",
   "name": "python3"
  },
  "language_info": {
   "codemirror_mode": {
    "name": "ipython",
    "version": 3
   },
   "file_extension": ".py",
   "mimetype": "text/x-python",
   "name": "python",
   "nbconvert_exporter": "python",
   "pygments_lexer": "ipython3",
   "version": "3.7.11"
  },
  "orig_nbformat": 4
 },
 "nbformat": 4,
 "nbformat_minor": 2
}
